{
 "cells": [
  {
   "cell_type": "markdown",
   "metadata": {},
   "source": [
    "## 자료링크\n",
    "https://www.kaggle.com/code/tanmay111999/telco-churn-eda-cv-score-85-f1-score-80#Summary-of-EDA"
   ]
  }
 ],
 "metadata": {
  "language_info": {
   "name": "python"
  }
 },
 "nbformat": 4,
 "nbformat_minor": 2
}
